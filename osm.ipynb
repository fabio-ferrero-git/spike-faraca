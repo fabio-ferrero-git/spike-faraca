{
 "cells": [
  {
   "cell_type": "markdown",
   "id": "3499732c",
   "metadata": {},
   "source": [
    "# OSM\n",
    "\n",
    "### 1. Fetch OpenStreetMap, asking for monuments and fountains in Turin\n",
    "### 2. Pick 5 random elements from those with names"
   ]
  },
  {
   "cell_type": "code",
   "id": "0b368ce5",
   "metadata": {
    "ExecuteTime": {
     "end_time": "2025-06-17T12:01:22.277791Z",
     "start_time": "2025-06-17T12:01:21.913770Z"
    }
   },
   "source": [
    "import requests\n",
    "import random\n",
    "import json\n",
    "\n",
    "def get_osm_monuments_and_fountains():\n",
    "    \"\"\"Find monuments and fountain in Turin and return 5 random elements within 2km\"\"\"\n",
    "    \n",
    "    # Turin city center coordinates\n",
    "    turin_lat, turin_lon = 45.0703, 7.6869\n",
    "    radius = 5000  # 2km in meters\n",
    "    \n",
    "    # Overpass API endpoint\n",
    "    url = \"https://overpass-api.de/api/interpreter\"\n",
    "    \n",
    "    # Query for monuments and fountain in Turin\n",
    "    query = f\"\"\"\n",
    "    [out:json][timeout:25];\n",
    "    (\n",
    "      node[\"historic\"=\"monument\"](around:{radius},{turin_lat},{turin_lon});\n",
    "      node[\"amenity\"=\"fountain\"](around:{radius},{turin_lat},{turin_lon});\n",
    "    );\n",
    "    out;\n",
    "    \"\"\"\n",
    "    \n",
    "    # Send request\n",
    "    response = requests.post(url, data=query)\n",
    "    data = response.json()\n",
    "    \n",
    "    # Get all elements\n",
    "    elements = data.get('elements', [])\n",
    "    print(f\"Found {len(elements)} monuments and fountain in Turin\")\n",
    "    \n",
    "    # Filter elements that have a name\n",
    "    named_elements = [e for e in elements if e.get('tags', {}).get('name')]\n",
    "    print(f\"Found {len(named_elements)} elements with names\")\n",
    "    \n",
    "    # Pick 5 random elements from those with names\n",
    "    if len(named_elements) >= 5:\n",
    "        selected = random.sample(named_elements, 5)\n",
    "    else:\n",
    "        selected = named_elements\n",
    "    \n",
    "    # Print the selected elements\n",
    "    print(f\"\\nRandomly selected {len(selected)} elements:\")\n",
    "    print(\"=\" * 50)\n",
    "    \n",
    "    for i, element in enumerate(selected, 1):\n",
    "        tags = element.get('tags', {})\n",
    "        name = tags.get('name')\n",
    "        element_type = tags.get('historic', tags.get('amenity', 'Unknown'))\n",
    "        lat = element.get('lat', 'N/A')\n",
    "        lon = element.get('lon', 'N/A')\n",
    "        \n",
    "        print(f\"{i}. {name}\")\n",
    "        print(f\"   Type: {element_type}\")\n",
    "        print(f\"   Coordinates: {lat}, {lon}\")\n",
    "        print()\n",
    "\n",
    "# Run the code\n",
    "get_osm_monuments_and_fountains()"
   ],
   "outputs": [
    {
     "name": "stdout",
     "output_type": "stream",
     "text": [
      "Found 73 monuments and fountain in Turin\n",
      "Found 57 elements with names\n",
      "\n",
      "Randomly selected 5 elements:\n",
      "==================================================\n",
      "1. Alessandro Borella\n",
      "   Type: monument\n",
      "   Coordinates: 45.073681, 7.6825252\n",
      "\n",
      "2. Guglielmo Marconi\n",
      "   Type: monument\n",
      "   Coordinates: 45.054832, 7.6850465\n",
      "\n",
      "3. Ai caduti sul lavoro\n",
      "   Type: monument\n",
      "   Coordinates: 45.0683152, 7.6263054\n",
      "\n",
      "4. Fontana alle quattro stagioni\n",
      "   Type: fountain\n",
      "   Coordinates: 45.0613316, 7.6976777\n",
      "\n",
      "5. Artigliere d'Italia\n",
      "   Type: monument\n",
      "   Coordinates: 45.0703145, 7.655898\n",
      "\n"
     ]
    }
   ],
   "execution_count": 2
  },
  {
   "cell_type": "markdown",
   "id": "5d33ceb7",
   "metadata": {},
   "source": [
    "# Router API"
   ]
  },
  {
   "cell_type": "code",
   "execution_count": 20,
   "id": "8d031219",
   "metadata": {},
   "outputs": [],
   "source": [
    "def get_route(payload):\n",
    "    url = \"https://caresrouting.ontomap.eu/\"\n",
    "        \n",
    "    headers = {\"Content-Type\": \"application/json\"}\n",
    "    \n",
    "    response = requests.post(url, json=payload, headers=headers)\n",
    "    \n",
    "    return response.json()"
   ]
  },
  {
   "cell_type": "markdown",
   "id": "078db314",
   "metadata": {},
   "source": [
    "## Router example"
   ]
  },
  {
   "cell_type": "code",
   "execution_count": 45,
   "id": "27ce270a",
   "metadata": {},
   "outputs": [
    {
     "name": "stdout",
     "output_type": "stream",
     "text": [
      "Index: 0\n",
      "* Type: start\n",
      "* Location: [7.6806196, 45.0635001]\n",
      "|\n",
      "|\n",
      "V\n",
      "Index: 1\n",
      "* Type: job\n",
      "* Location: [7.6788503, 45.0641374]\n",
      "|\n",
      "|\n",
      "V\n",
      "Index: 2\n",
      "* Type: job\n",
      "* Location: [7.6751691, 45.0723813]\n",
      "|\n",
      "|\n",
      "V\n",
      "Index: 3\n",
      "* Type: job\n",
      "* Location: [7.6828981, 45.073573]\n",
      "|\n",
      "|\n",
      "V\n",
      "Index: 4\n",
      "* Type: job\n",
      "* Location: [7.6976777, 45.0613316]\n",
      "|\n",
      "|\n",
      "V\n",
      "Index: 5\n",
      "* Type: end\n",
      "* Location: [7.6806196, 45.0635001]\n"
     ]
    }
   ],
   "source": [
    "payload = {\n",
    "    \"vehicles\":[\n",
    "        {\n",
    "            \"id\":0,\n",
    "            \"profile\": \"foot\",\n",
    "            \"start\":[7.6806196, 45.0635001],\n",
    "            \"end\":[7.6806196, 45.0635001]\n",
    "        }\n",
    "    ],\n",
    "    \"jobs\":[\n",
    "        {\n",
    "            \"id\":0,\n",
    "            \"location\":[7.6976777, 45.0613316]\n",
    "        },\n",
    "        {\n",
    "            \"id\":1,\n",
    "            \"location\":[7.6751691, 45.0723813]\n",
    "        },\n",
    "        {\n",
    "            \"id\":2,\n",
    "            \"location\":[7.6788503 ,45.0641374]\n",
    "        },\n",
    "        {\n",
    "            \"id\":3,\n",
    "            \"location\":[7.6828981, 45.073573]\n",
    "        },\n",
    "    ],\n",
    "    \"options\":{\"g\":True}\n",
    "}\n",
    "\n",
    "\n",
    "route = get_route(payload=payload)\n",
    "steps = route['routes'][0]['steps']\n",
    "\n",
    "for id, el in enumerate(steps):\n",
    "    print(f'Index: {id}')\n",
    "    print(f'* Type: {el.get('type')}')\n",
    "    print(f'* Location: {el.get('location')}')\n",
    "    if not id == len(steps)-1:\n",
    "        print('|')\n",
    "        print('|')\n",
    "        print('V')"
   ]
  }
 ],
 "metadata": {
  "kernelspec": {
   "display_name": "test_new_env",
   "language": "python",
   "name": "python3"
  },
  "language_info": {
   "codemirror_mode": {
    "name": "ipython",
    "version": 3
   },
   "file_extension": ".py",
   "mimetype": "text/x-python",
   "name": "python",
   "nbconvert_exporter": "python",
   "pygments_lexer": "ipython3",
   "version": "3.12.2"
  }
 },
 "nbformat": 4,
 "nbformat_minor": 5
}
