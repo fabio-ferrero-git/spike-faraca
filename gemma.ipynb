{
 "cells": [
  {
   "cell_type": "markdown",
   "id": "2708e35c",
   "metadata": {},
   "source": [
    "# LLM Gemma 3 27b-it Spike\n",
    "\n",
    "- Request/response with **Multi-turn conversations (Chat)**\n",
    "- Get full chat history\n",
    "- Streams\n",
    "\n",
    "---"
   ]
  },
  {
   "cell_type": "code",
   "execution_count": null,
   "id": "33bb3999",
   "metadata": {},
   "outputs": [],
   "source": [
    "from google import genai"
   ]
  },
  {
   "cell_type": "markdown",
   "id": "9e5df861",
   "metadata": {},
   "source": [
    "### Check API Docs: \n",
    "\n",
    "https://ai.google.dev/gemini-api/docs/text-generation"
   ]
  },
  {
   "cell_type": "code",
   "execution_count": 8,
   "id": "036ba35e",
   "metadata": {},
   "outputs": [
    {
     "name": "stdout",
     "output_type": "stream",
     "text": [
      "That's wonderful! Two dogs sounds like a lot of fun (and maybe a little chaos!). \n",
      "\n",
      "To help me understand what you might want to talk about, could you tell me a little more? For example:\n",
      "\n",
      "* **What kind of dogs do you have?** (Breeds, ages, sizes)\n",
      "* **Are you looking for advice on something?** (Training, feeding, introducing a new dog, dealing with behavior issues, etc.)\n",
      "* **Do you just want to share something about your dogs?** (A funny story, a cute picture, etc.)\n",
      "* **Are you looking for ideas for activities to do with them?**\n",
      "\n",
      "\n",
      "\n",
      "I'm happy to chat about anything dog-related! 🐶🐶\n",
      "\n",
      "\n",
      "\n",
      "\n",
      "That's a fun question! Let's figure it out:\n",
      "\n",
      "* You have 2 dogs.\n",
      "* Each dog has 4 paws.\n",
      "* 2 dogs * 4 paws/dog = 8 paws\n",
      "\n",
      "And don't forget *your* paws! Humans usually have 2 feet, so 2 paws.\n",
      "\n",
      "Therefore, there are **10 paws** in your house! (8 dog paws + 2 human paws) 🐾🐾🐾🐾🐾🐾🐾🐾 + 👣👣\n",
      "\n",
      "\n",
      "\n",
      "\n"
     ]
    }
   ],
   "source": [
    "# Create a Google AI Studio profile and get an API KEY\n",
    "client = genai.Client(api_key=\"API_KEY\")\n",
    "chat = client.chats.create(model='gemma-3-27b-it')\n",
    "\n",
    "response = chat.send_message(\"I have 2 dogs in my house.\")\n",
    "print(response.text)\n",
    "\n",
    "response = chat.send_message(\"How many paws are in my house?\")\n",
    "print(response.text)"
   ]
  },
  {
   "cell_type": "markdown",
   "id": "a99cd3ef",
   "metadata": {},
   "source": [
    "### Get full chat history"
   ]
  },
  {
   "cell_type": "code",
   "execution_count": 9,
   "id": "253d49a8",
   "metadata": {},
   "outputs": [
    {
     "name": "stdout",
     "output_type": "stream",
     "text": [
      "role - user: I have 2 dogs in my house.\n",
      "role - model: That's wonderful! Two dogs sounds like a lot of fun (and maybe a little chaos!). \n",
      "\n",
      "To help me understand what you might want to talk about, could you tell me a little more? For example:\n",
      "\n",
      "* **What kind of dogs do you have?** (Breeds, ages, sizes)\n",
      "* **Are you looking for advice on something?** (Training, feeding, introducing a new dog, dealing with behavior issues, etc.)\n",
      "* **Do you just want to share something about your dogs?** (A funny story, a cute picture, etc.)\n",
      "* **Are you looking for ideas for activities to do with them?**\n",
      "\n",
      "\n",
      "\n",
      "I'm happy to chat about anything dog-related! 🐶🐶\n",
      "\n",
      "\n",
      "\n",
      "\n",
      "role - user: How many paws are in my house?\n",
      "role - model: That's a fun question! Let's figure it out:\n",
      "\n",
      "* You have 2 dogs.\n",
      "* Each dog has 4 paws.\n",
      "* 2 dogs * 4 paws/dog = 8 paws\n",
      "\n",
      "And don't forget *your* paws! Humans usually have 2 feet, so 2 paws.\n",
      "\n",
      "Therefore, there are **10 paws** in your house! (8 dog paws + 2 human paws) 🐾🐾🐾🐾🐾🐾🐾🐾 + 👣👣\n",
      "\n",
      "\n",
      "\n",
      "\n"
     ]
    }
   ],
   "source": [
    "for message in chat.get_history():\n",
    "    print(f'role - {message.role}',end=\": \")\n",
    "    print(message.parts[0].text)"
   ]
  },
  {
   "cell_type": "markdown",
   "id": "8b931bad",
   "metadata": {},
   "source": [
    "### Streams"
   ]
  },
  {
   "cell_type": "code",
   "execution_count": 11,
   "id": "3ea2a5d2",
   "metadata": {},
   "outputs": [
    {
     "name": "stdout",
     "output_type": "stream",
     "text": [
      "You mentioned you have 2 dogs! That's great! Is there anything specific you'd like to talk about regarding your dogs? Perhaps:\n",
      "\n",
      "* **Their names and breeds?**\n",
      "* **Something they've been up to?**\n",
      "* **If you need any advice about them?**\n",
      "\n",
      "I'm happy to listen or offer help if you'd like! Just let me know. 😊\n",
      "\n",
      "\n",
      "\n",
      "NoneYou're right to ask again! I got carried away adding *my* assumption of your paws. My apologies!\n",
      "\n",
      "You asked how many paws are in *your* house, and you have 2 dogs.\n",
      "\n",
      "* 2 dogs * 4 paws/dog = **8 paws**\n",
      "\n",
      "There are **8 paws** in your house! 🐾🐾🐾🐾🐾🐾🐾🐾\n",
      "\n",
      "\n",
      "\n",
      "None"
     ]
    }
   ],
   "source": [
    "response = chat.send_message_stream(\"I have 2 dogs in my house.\")\n",
    "for chunk in response:\n",
    "    print(chunk.text, end=\"\")\n",
    "\n",
    "response = chat.send_message_stream(\"How many paws are in my house?\")\n",
    "for chunk in response:\n",
    "    print(chunk.text, end=\"\")"
   ]
  }
 ],
 "metadata": {
  "kernelspec": {
   "display_name": "test_new_env",
   "language": "python",
   "name": "python3"
  },
  "language_info": {
   "codemirror_mode": {
    "name": "ipython",
    "version": 3
   },
   "file_extension": ".py",
   "mimetype": "text/x-python",
   "name": "python",
   "nbconvert_exporter": "python",
   "pygments_lexer": "ipython3",
   "version": "3.12.2"
  }
 },
 "nbformat": 4,
 "nbformat_minor": 5
}
